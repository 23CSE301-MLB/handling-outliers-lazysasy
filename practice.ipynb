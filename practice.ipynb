{
 "cells": [
  {
   "cell_type": "code",
   "execution_count": 3,
   "id": "19551190-140a-46dc-8802-1c8b44cd8670",
   "metadata": {},
   "outputs": [],
   "source": [
    "import pandas as pd\n",
    "import matplotlib.pyplot as plt"
   ]
  },
  {
   "cell_type": "code",
   "execution_count": 5,
   "id": "6188e6b2-2634-4950-8e30-cde75faefc8b",
   "metadata": {},
   "outputs": [],
   "source": [
    "df = pd.read_csv('heart_failure_clinical_records_dataset.csv')"
   ]
  },
  {
   "cell_type": "code",
   "execution_count": 7,
   "id": "d87b07e0-0733-4e19-ad78-e8a0c0839f2c",
   "metadata": {
    "scrolled": true
   },
   "outputs": [
    {
     "data": {
      "text/html": [
       "<div>\n",
       "<style scoped>\n",
       "    .dataframe tbody tr th:only-of-type {\n",
       "        vertical-align: middle;\n",
       "    }\n",
       "\n",
       "    .dataframe tbody tr th {\n",
       "        vertical-align: top;\n",
       "    }\n",
       "\n",
       "    .dataframe thead th {\n",
       "        text-align: right;\n",
       "    }\n",
       "</style>\n",
       "<table border=\"1\" class=\"dataframe\">\n",
       "  <thead>\n",
       "    <tr style=\"text-align: right;\">\n",
       "      <th></th>\n",
       "      <th>age</th>\n",
       "      <th>anaemia</th>\n",
       "      <th>creatinine_phosphokinase</th>\n",
       "      <th>diabetes</th>\n",
       "      <th>ejection_fraction</th>\n",
       "      <th>high_blood_pressure</th>\n",
       "      <th>platelets</th>\n",
       "      <th>serum_creatinine</th>\n",
       "      <th>serum_sodium</th>\n",
       "      <th>sex</th>\n",
       "      <th>smoking</th>\n",
       "      <th>time</th>\n",
       "      <th>DEATH_EVENT</th>\n",
       "    </tr>\n",
       "  </thead>\n",
       "  <tbody>\n",
       "    <tr>\n",
       "      <th>0</th>\n",
       "      <td>75.0</td>\n",
       "      <td>0</td>\n",
       "      <td>582</td>\n",
       "      <td>0</td>\n",
       "      <td>20</td>\n",
       "      <td>1</td>\n",
       "      <td>265000.00</td>\n",
       "      <td>1.9</td>\n",
       "      <td>130</td>\n",
       "      <td>1</td>\n",
       "      <td>0</td>\n",
       "      <td>4</td>\n",
       "      <td>1</td>\n",
       "    </tr>\n",
       "    <tr>\n",
       "      <th>1</th>\n",
       "      <td>55.0</td>\n",
       "      <td>0</td>\n",
       "      <td>7861</td>\n",
       "      <td>0</td>\n",
       "      <td>38</td>\n",
       "      <td>0</td>\n",
       "      <td>263358.03</td>\n",
       "      <td>1.1</td>\n",
       "      <td>136</td>\n",
       "      <td>1</td>\n",
       "      <td>0</td>\n",
       "      <td>6</td>\n",
       "      <td>1</td>\n",
       "    </tr>\n",
       "    <tr>\n",
       "      <th>2</th>\n",
       "      <td>65.0</td>\n",
       "      <td>0</td>\n",
       "      <td>146</td>\n",
       "      <td>0</td>\n",
       "      <td>20</td>\n",
       "      <td>0</td>\n",
       "      <td>162000.00</td>\n",
       "      <td>1.3</td>\n",
       "      <td>129</td>\n",
       "      <td>1</td>\n",
       "      <td>1</td>\n",
       "      <td>7</td>\n",
       "      <td>1</td>\n",
       "    </tr>\n",
       "    <tr>\n",
       "      <th>3</th>\n",
       "      <td>50.0</td>\n",
       "      <td>1</td>\n",
       "      <td>111</td>\n",
       "      <td>0</td>\n",
       "      <td>20</td>\n",
       "      <td>0</td>\n",
       "      <td>210000.00</td>\n",
       "      <td>1.9</td>\n",
       "      <td>137</td>\n",
       "      <td>1</td>\n",
       "      <td>0</td>\n",
       "      <td>7</td>\n",
       "      <td>1</td>\n",
       "    </tr>\n",
       "    <tr>\n",
       "      <th>4</th>\n",
       "      <td>65.0</td>\n",
       "      <td>1</td>\n",
       "      <td>160</td>\n",
       "      <td>1</td>\n",
       "      <td>20</td>\n",
       "      <td>0</td>\n",
       "      <td>327000.00</td>\n",
       "      <td>2.7</td>\n",
       "      <td>116</td>\n",
       "      <td>0</td>\n",
       "      <td>0</td>\n",
       "      <td>8</td>\n",
       "      <td>1</td>\n",
       "    </tr>\n",
       "    <tr>\n",
       "      <th>...</th>\n",
       "      <td>...</td>\n",
       "      <td>...</td>\n",
       "      <td>...</td>\n",
       "      <td>...</td>\n",
       "      <td>...</td>\n",
       "      <td>...</td>\n",
       "      <td>...</td>\n",
       "      <td>...</td>\n",
       "      <td>...</td>\n",
       "      <td>...</td>\n",
       "      <td>...</td>\n",
       "      <td>...</td>\n",
       "      <td>...</td>\n",
       "    </tr>\n",
       "    <tr>\n",
       "      <th>294</th>\n",
       "      <td>62.0</td>\n",
       "      <td>0</td>\n",
       "      <td>61</td>\n",
       "      <td>1</td>\n",
       "      <td>38</td>\n",
       "      <td>1</td>\n",
       "      <td>155000.00</td>\n",
       "      <td>1.1</td>\n",
       "      <td>143</td>\n",
       "      <td>1</td>\n",
       "      <td>1</td>\n",
       "      <td>270</td>\n",
       "      <td>0</td>\n",
       "    </tr>\n",
       "    <tr>\n",
       "      <th>295</th>\n",
       "      <td>55.0</td>\n",
       "      <td>0</td>\n",
       "      <td>1820</td>\n",
       "      <td>0</td>\n",
       "      <td>38</td>\n",
       "      <td>0</td>\n",
       "      <td>270000.00</td>\n",
       "      <td>1.2</td>\n",
       "      <td>139</td>\n",
       "      <td>0</td>\n",
       "      <td>0</td>\n",
       "      <td>271</td>\n",
       "      <td>0</td>\n",
       "    </tr>\n",
       "    <tr>\n",
       "      <th>296</th>\n",
       "      <td>45.0</td>\n",
       "      <td>0</td>\n",
       "      <td>2060</td>\n",
       "      <td>1</td>\n",
       "      <td>60</td>\n",
       "      <td>0</td>\n",
       "      <td>742000.00</td>\n",
       "      <td>0.8</td>\n",
       "      <td>138</td>\n",
       "      <td>0</td>\n",
       "      <td>0</td>\n",
       "      <td>278</td>\n",
       "      <td>0</td>\n",
       "    </tr>\n",
       "    <tr>\n",
       "      <th>297</th>\n",
       "      <td>45.0</td>\n",
       "      <td>0</td>\n",
       "      <td>2413</td>\n",
       "      <td>0</td>\n",
       "      <td>38</td>\n",
       "      <td>0</td>\n",
       "      <td>140000.00</td>\n",
       "      <td>1.4</td>\n",
       "      <td>140</td>\n",
       "      <td>1</td>\n",
       "      <td>1</td>\n",
       "      <td>280</td>\n",
       "      <td>0</td>\n",
       "    </tr>\n",
       "    <tr>\n",
       "      <th>298</th>\n",
       "      <td>50.0</td>\n",
       "      <td>0</td>\n",
       "      <td>196</td>\n",
       "      <td>0</td>\n",
       "      <td>45</td>\n",
       "      <td>0</td>\n",
       "      <td>395000.00</td>\n",
       "      <td>1.6</td>\n",
       "      <td>136</td>\n",
       "      <td>1</td>\n",
       "      <td>1</td>\n",
       "      <td>285</td>\n",
       "      <td>0</td>\n",
       "    </tr>\n",
       "  </tbody>\n",
       "</table>\n",
       "<p>299 rows × 13 columns</p>\n",
       "</div>"
      ],
      "text/plain": [
       "      age  anaemia  creatinine_phosphokinase  diabetes  ejection_fraction  \\\n",
       "0    75.0        0                       582         0                 20   \n",
       "1    55.0        0                      7861         0                 38   \n",
       "2    65.0        0                       146         0                 20   \n",
       "3    50.0        1                       111         0                 20   \n",
       "4    65.0        1                       160         1                 20   \n",
       "..    ...      ...                       ...       ...                ...   \n",
       "294  62.0        0                        61         1                 38   \n",
       "295  55.0        0                      1820         0                 38   \n",
       "296  45.0        0                      2060         1                 60   \n",
       "297  45.0        0                      2413         0                 38   \n",
       "298  50.0        0                       196         0                 45   \n",
       "\n",
       "     high_blood_pressure  platelets  serum_creatinine  serum_sodium  sex  \\\n",
       "0                      1  265000.00               1.9           130    1   \n",
       "1                      0  263358.03               1.1           136    1   \n",
       "2                      0  162000.00               1.3           129    1   \n",
       "3                      0  210000.00               1.9           137    1   \n",
       "4                      0  327000.00               2.7           116    0   \n",
       "..                   ...        ...               ...           ...  ...   \n",
       "294                    1  155000.00               1.1           143    1   \n",
       "295                    0  270000.00               1.2           139    0   \n",
       "296                    0  742000.00               0.8           138    0   \n",
       "297                    0  140000.00               1.4           140    1   \n",
       "298                    0  395000.00               1.6           136    1   \n",
       "\n",
       "     smoking  time  DEATH_EVENT  \n",
       "0          0     4            1  \n",
       "1          0     6            1  \n",
       "2          1     7            1  \n",
       "3          0     7            1  \n",
       "4          0     8            1  \n",
       "..       ...   ...          ...  \n",
       "294        1   270            0  \n",
       "295        0   271            0  \n",
       "296        0   278            0  \n",
       "297        1   280            0  \n",
       "298        1   285            0  \n",
       "\n",
       "[299 rows x 13 columns]"
      ]
     },
     "execution_count": 7,
     "metadata": {},
     "output_type": "execute_result"
    }
   ],
   "source": [
    "df"
   ]
  },
  {
   "cell_type": "code",
   "execution_count": 9,
   "id": "755ea092-e9be-489a-bf1c-6e0c0bdd5a06",
   "metadata": {},
   "outputs": [],
   "source": [
    "import seaborn as sns"
   ]
  },
  {
   "cell_type": "code",
   "execution_count": 10,
   "id": "b1eb6e73-e066-4c03-8d61-c84e297d1a85",
   "metadata": {},
   "outputs": [],
   "source": [
    "num_cols = [\n",
    "    'age', 'creatinine_phosphokinase', 'ejection_fraction',\n",
    "    'platelets', 'serum_creatinine', 'serum_sodium', 'time'\n",
    "]"
   ]
  },
  {
   "cell_type": "code",
   "execution_count": 11,
   "id": "fa62ac95-17f0-496e-b72c-dd15da1fc900",
   "metadata": {},
   "outputs": [
    {
     "data": {
      "image/png": "[encoded data removed]",
      "text/plain": [
       "<Figure size 640x480 with 1 Axes>"
      ]
     },
     "metadata": {},
     "output_type": "display_data"
    },
    {
     "data": {
      "image/png": "[encoded data removed]",
      "text/plain": [
       "<Figure size 640x480 with 1 Axes>"
      ]
     },
     "metadata": {},
     "output_type": "display_data"
    },
    {
     "data": {
      "image/png": "[encoded data removed]",
      "text/plain": [
       "<Figure size 640x480 with 1 Axes>"
      ]
     },
     "metadata": {},
     "output_type": "display_data"
    },
    {
     "data": {
      "image/png": "[encoded data removed]",
      "text/plain": [
       "<Figure size 640x480 with 1 Axes>"
      ]
     },
     "metadata": {},
     "output_type": "display_data"
    },
    {
     "data": {
      "image/png": "[encoded data removed]",
      "text/plain": [
       "<Figure size 640x480 with 1 Axes>"
      ]
     },
     "metadata": {},
     "output_type": "display_data"
    },
    {
     "data": {
      "image/png": "[encoded data removed]",
      "text/plain": [
       "<Figure size 640x480 with 1 Axes>"
      ]
     },
     "metadata": {},
     "output_type": "display_data"
    },
    {
     "data": {
      "image/png": "[encoded data removed]",
      "text/plain": [
       "<Figure size 640x480 with 1 Axes>"
      ]
     },
     "metadata": {},
     "output_type": "display_data"
    }
   ],
   "source": [
    "for col in num_cols :\n",
    "    sns.boxplot(x=df[col])\n",
    "    plt.show()"
   ]
  },
  {
   "cell_type": "code",
   "execution_count": 12,
   "id": "d6ee17e8-4161-4e2b-a3ff-3ea69ae9e968",
   "metadata": {},
   "outputs": [
    {
     "data": {
      "image/png": "[encoded data removed]",
      "text/plain": [
       "<Figure size 640x480 with 1 Axes>"
      ]
     },
     "metadata": {},
     "output_type": "display_data"
    },
    {
     "data": {
      "image/png": "[encoded data removed]",
      "text/plain": [
       "<Figure size 640x480 with 1 Axes>"
      ]
     },
     "metadata": {},
     "output_type": "display_data"
    },
    {
     "data": {
      "image/png": "[encoded data removed]",
      "text/plain": [
       "<Figure size 640x480 with 1 Axes>"
      ]
     },
     "metadata": {},
     "output_type": "display_data"
    },
    {
     "data": {
      "image/png": "[encoded data removed]",
      "text/plain": [
       "<Figure size 640x480 with 1 Axes>"
      ]
     },
     "metadata": {},
     "output_type": "display_data"
    },
    {
     "data": {
      "image/png": "[encoded data removed]",
      "text/plain": [
       "<Figure size 640x480 with 1 Axes>"
      ]
     },
     "metadata": {},
     "output_type": "display_data"
    },
    {
     "data": {
      "image/png": "[encoded data removed]",
      "text/plain": [
       "<Figure size 640x480 with 1 Axes>"
      ]
     },
     "metadata": {},
     "output_type": "display_data"
    },
    {
     "data": {
      "image/png": "[encoded data removed]",
      "text/plain": [
       "<Figure size 640x480 with 1 Axes>"
      ]
     },
     "metadata": {},
     "output_type": "display_data"
    }
   ],
   "source": [
    "for col in num_cols :\n",
    "    sns.histplot(x=df[col],bins=20)\n",
    "    plt.show()"
   ]
  },
  {
   "cell_type": "code",
   "execution_count": 15,
   "id": "b85d9785-b765-49c8-a350-c64207a20be5",
   "metadata": {},
   "outputs": [],
   "source": [
    "from scipy import stats\n",
    "import numpy as np"
   ]
  },
  {
   "cell_type": "code",
   "execution_count": 16,
   "id": "d14d3df4-4620-4bae-8e88-be50f340c9c5",
   "metadata": {},
   "outputs": [
    {
     "name": "stdout",
     "output_type": "stream",
     "text": [
      "Series([], Name: age, dtype: float64)\n",
      "1      7861\n",
      "52     3964\n",
      "60     7702\n",
      "72     5882\n",
      "103    5209\n",
      "134    4540\n",
      "171    3966\n",
      "Name: creatinine_phosphokinase, dtype: int64\n",
      "64    80\n",
      "Name: ejection_fraction, dtype: int64\n",
      "105    621000.0\n",
      "109    850000.0\n",
      "296    742000.0\n",
      "Name: platelets, dtype: float64\n",
      "9      9.4\n",
      "28     5.8\n",
      "52     6.8\n",
      "131    6.1\n",
      "217    9.0\n",
      "228    5.0\n",
      "Name: serum_creatinine, dtype: float64\n",
      "4      116\n",
      "19     121\n",
      "199    113\n",
      "Name: serum_sodium, dtype: int64\n",
      "Series([], Name: time, dtype: int64)\n"
     ]
    }
   ],
   "source": [
    "for col in num_cols:\n",
    "    z_scores = np.abs(stats.zscore(df[col]))\n",
    "    outliers = df.loc[z_scores > 3]\n",
    "    print(outliers[col])"
   ]
  },
  {
   "cell_type": "code",
   "execution_count": 18,
   "id": "65d57126-abb9-44ef-8f6a-da925026b27c",
   "metadata": {},
   "outputs": [
    {
     "name": "stdout",
     "output_type": "stream",
     "text": [
      "Series([], Name: age, dtype: float64)\n",
      "1      7861\n",
      "38     2656\n",
      "46     1380\n",
      "52     3964\n",
      "60     7702\n",
      "72     5882\n",
      "103    5209\n",
      "107    1876\n",
      "130    1808\n",
      "134    4540\n",
      "139    1548\n",
      "147    1610\n",
      "149    2261\n",
      "153    1846\n",
      "163    2334\n",
      "164    2442\n",
      "171    3966\n",
      "176    1419\n",
      "187    1896\n",
      "200    1767\n",
      "208    2281\n",
      "227    2794\n",
      "246    2017\n",
      "250    2522\n",
      "280    2695\n",
      "283    1688\n",
      "295    1820\n",
      "296    2060\n",
      "297    2413\n",
      "Name: creatinine_phosphokinase, dtype: int64\n",
      "64     80\n",
      "217    70\n",
      "Name: ejection_fraction, dtype: int64\n",
      "7      454000.0\n",
      "15      47000.0\n",
      "47     451000.0\n",
      "55     461000.0\n",
      "69     497000.0\n",
      "105    621000.0\n",
      "109    850000.0\n",
      "117    507000.0\n",
      "162    448000.0\n",
      "163     75000.0\n",
      "167     70000.0\n",
      "200     73000.0\n",
      "212    481000.0\n",
      "224    504000.0\n",
      "230     62000.0\n",
      "240    533000.0\n",
      "277     25100.0\n",
      "279    451000.0\n",
      "281     51000.0\n",
      "287    543000.0\n",
      "296    742000.0\n",
      "Name: platelets, dtype: float64\n",
      "4      2.7\n",
      "9      9.4\n",
      "10     4.0\n",
      "28     5.8\n",
      "31     3.0\n",
      "35     3.5\n",
      "38     2.3\n",
      "39     3.0\n",
      "48     4.4\n",
      "52     6.8\n",
      "54     2.2\n",
      "56     2.7\n",
      "61     2.3\n",
      "65     2.9\n",
      "82     2.5\n",
      "104    2.3\n",
      "117    3.2\n",
      "124    3.7\n",
      "129    3.4\n",
      "131    6.1\n",
      "150    2.5\n",
      "167    2.4\n",
      "183    2.5\n",
      "203    3.5\n",
      "217    9.0\n",
      "228    5.0\n",
      "247    2.4\n",
      "281    2.7\n",
      "282    3.8\n",
      "Name: serum_creatinine, dtype: float64\n",
      "4      116\n",
      "19     121\n",
      "126    124\n",
      "199    113\n",
      "Name: serum_sodium, dtype: int64\n",
      "Series([], Name: time, dtype: int64)\n"
     ]
    }
   ],
   "source": [
    "for col in num_cols :\n",
    "    Q1 = df[col].quantile(0.25)\n",
    "    Q3 = df[col].quantile(0.75)\n",
    "\n",
    "    IQR = Q3-Q1\n",
    "    lower = Q1-1.5*IQR\n",
    "    upper = Q3+1.5*IQR\n",
    "    outliers = df[ (df[col]<lower) | (df[col]>upper)]\n",
    "    print(outliers[col])\n"
   ]
  },
  {
   "cell_type": "code",
   "execution_count": 19,
   "id": "991e192e-5b61-4126-b344-19e21245d857",
   "metadata": {},
   "outputs": [
    {
     "name": "stdout",
     "output_type": "stream",
     "text": [
      "0      75.0\n",
      "1      55.0\n",
      "2      65.0\n",
      "3      50.0\n",
      "4      65.0\n",
      "       ... \n",
      "294    62.0\n",
      "295    55.0\n",
      "296    45.0\n",
      "297    45.0\n",
      "298    50.0\n",
      "Name: age, Length: 299, dtype: float64\n",
      "0      582\n",
      "2      146\n",
      "3      111\n",
      "4      160\n",
      "5       47\n",
      "      ... \n",
      "291    320\n",
      "292    190\n",
      "293    103\n",
      "294     61\n",
      "298    196\n",
      "Name: creatinine_phosphokinase, Length: 270, dtype: int64\n",
      "0      20\n",
      "1      38\n",
      "2      20\n",
      "3      20\n",
      "4      20\n",
      "       ..\n",
      "294    38\n",
      "295    38\n",
      "296    60\n",
      "297    38\n",
      "298    45\n",
      "Name: ejection_fraction, Length: 297, dtype: int64\n",
      "0      265000.00\n",
      "1      263358.03\n",
      "2      162000.00\n",
      "3      210000.00\n",
      "4      327000.00\n",
      "         ...    \n",
      "293    179000.00\n",
      "294    155000.00\n",
      "295    270000.00\n",
      "297    140000.00\n",
      "298    395000.00\n",
      "Name: platelets, Length: 278, dtype: float64\n",
      "0      1.9\n",
      "1      1.1\n",
      "2      1.3\n",
      "3      1.9\n",
      "5      2.1\n",
      "      ... \n",
      "294    1.1\n",
      "295    1.2\n",
      "296    0.8\n",
      "297    1.4\n",
      "298    1.6\n",
      "Name: serum_creatinine, Length: 270, dtype: float64\n",
      "0      130\n",
      "1      136\n",
      "2      129\n",
      "3      137\n",
      "5      132\n",
      "      ... \n",
      "294    143\n",
      "295    139\n",
      "296    138\n",
      "297    140\n",
      "298    136\n",
      "Name: serum_sodium, Length: 295, dtype: int64\n",
      "0        4\n",
      "1        6\n",
      "2        7\n",
      "3        7\n",
      "4        8\n",
      "      ... \n",
      "294    270\n",
      "295    271\n",
      "296    278\n",
      "297    280\n",
      "298    285\n",
      "Name: time, Length: 299, dtype: int64\n"
     ]
    }
   ],
   "source": [
    "for col in num_cols :\n",
    "    Q1 = df[col].quantile(0.25)\n",
    "    Q3 = df[col].quantile(0.75)\n",
    "\n",
    "    IQR = Q3-Q1\n",
    "    lower = Q1-1.5*IQR\n",
    "    upper = Q3+1.5*IQR\n",
    "    outliers = df[ (df[col] >= lower) & (df[col]<= upper ) ]\n",
    "    print(outliers[col])\n"
   ]
  },
  {
   "cell_type": "code",
   "execution_count": 25,
   "id": "acf8c09a-0a56-486f-849f-5c4c5f711483",
   "metadata": {},
   "outputs": [
    {
     "name": "stdout",
     "output_type": "stream",
     "text": [
      "0      4.330733\n",
      "1      4.025352\n",
      "2      4.189655\n",
      "3      3.931826\n",
      "4      4.189655\n",
      "         ...   \n",
      "294    4.143135\n",
      "295    4.025352\n",
      "296    3.828641\n",
      "297    3.828641\n",
      "298    3.931826\n",
      "Name: age, Length: 299, dtype: float64\n",
      "0      6.368187\n",
      "1      8.969796\n",
      "2      4.990433\n",
      "3      4.718499\n",
      "4      5.081404\n",
      "         ...   \n",
      "294    4.127134\n",
      "295    7.507141\n",
      "296    7.630947\n",
      "297    7.789040\n",
      "298    5.283204\n",
      "Name: creatinine_phosphokinase, Length: 299, dtype: float64\n",
      "0      3.044522\n",
      "1      3.663562\n",
      "2      3.044522\n",
      "3      3.044522\n",
      "4      3.044522\n",
      "         ...   \n",
      "294    3.663562\n",
      "295    3.663562\n",
      "296    4.110874\n",
      "297    3.663562\n",
      "298    3.828641\n",
      "Name: ejection_fraction, Length: 299, dtype: float64\n",
      "0      12.487489\n",
      "1      12.481274\n",
      "2      11.995358\n",
      "3      12.254868\n",
      "4      12.697719\n",
      "         ...    \n",
      "294    11.951187\n",
      "295    12.506181\n",
      "296    13.517106\n",
      "297    11.849405\n",
      "298    12.886644\n",
      "Name: platelets, Length: 299, dtype: float64\n",
      "0      1.064711\n",
      "1      0.741937\n",
      "2      0.832909\n",
      "3      1.064711\n",
      "4      1.308333\n",
      "         ...   \n",
      "294    0.741937\n",
      "295    0.788457\n",
      "296    0.587787\n",
      "297    0.875469\n",
      "298    0.955511\n",
      "Name: serum_creatinine, Length: 299, dtype: float64\n",
      "0      4.875197\n",
      "1      4.919981\n",
      "2      4.867534\n",
      "3      4.927254\n",
      "4      4.762174\n",
      "         ...   \n",
      "294    4.969813\n",
      "295    4.941642\n",
      "296    4.934474\n",
      "297    4.948760\n",
      "298    4.919981\n",
      "Name: serum_sodium, Length: 299, dtype: float64\n",
      "0      1.609438\n",
      "1      1.945910\n",
      "2      2.079442\n",
      "3      2.079442\n",
      "4      2.197225\n",
      "         ...   \n",
      "294    5.602119\n",
      "295    5.605802\n",
      "296    5.631212\n",
      "297    5.638355\n",
      "298    5.655992\n",
      "Name: time, Length: 299, dtype: float64\n"
     ]
    }
   ],
   "source": [
    "for col in num_cols:\n",
    "    df_log = np.log1p(df[col])\n",
    "    print(df_log)"
   ]
  },
  {
   "cell_type": "code",
   "execution_count": 27,
   "id": "e7627c9f-a144-42de-b576-408f1f7f7240",
   "metadata": {
    "scrolled": true
   },
   "outputs": [
    {
     "name": "stdout",
     "output_type": "stream",
     "text": [
      "      age  anaemia  creatinine_phosphokinase  diabetes  ejection_fraction  \\\n",
      "0    75.0        0                    582.00         0               20.0   \n",
      "1    55.0        0                   1280.25         0               38.0   \n",
      "2    65.0        0                    146.00         0               20.0   \n",
      "3    50.0        1                    111.00         0               20.0   \n",
      "4    65.0        1                    160.00         1               20.0   \n",
      "..    ...      ...                       ...       ...                ...   \n",
      "294  62.0        0                     61.00         1               38.0   \n",
      "295  55.0        0                   1280.25         0               38.0   \n",
      "296  45.0        0                   1280.25         1               60.0   \n",
      "297  45.0        0                   1280.25         0               38.0   \n",
      "298  50.0        0                    196.00         0               45.0   \n",
      "\n",
      "     high_blood_pressure  platelets  serum_creatinine  serum_sodium  sex  \\\n",
      "0                      1  265000.00              1.90         130.0    1   \n",
      "1                      0  263358.03              1.10         136.0    1   \n",
      "2                      0  162000.00              1.30         129.0    1   \n",
      "3                      0  210000.00              1.90         137.0    1   \n",
      "4                      0  327000.00              2.15         125.0    0   \n",
      "..                   ...        ...               ...           ...  ...   \n",
      "294                    1  155000.00              1.10         143.0    1   \n",
      "295                    0  270000.00              1.20         139.0    0   \n",
      "296                    0  440000.00              0.80         138.0    0   \n",
      "297                    0  140000.00              1.40         140.0    1   \n",
      "298                    0  395000.00              1.60         136.0    1   \n",
      "\n",
      "     smoking   time  DEATH_EVENT  \n",
      "0          0    4.0            1  \n",
      "1          0    6.0            1  \n",
      "2          1    7.0            1  \n",
      "3          0    7.0            1  \n",
      "4          0    8.0            1  \n",
      "..       ...    ...          ...  \n",
      "294        1  270.0            0  \n",
      "295        0  271.0            0  \n",
      "296        0  278.0            0  \n",
      "297        1  280.0            0  \n",
      "298        1  285.0            0  \n",
      "\n",
      "[299 rows x 13 columns]\n"
     ]
    }
   ],
   "source": [
    "df_capped = df.copy()\n",
    "for col in num_cols :\n",
    "    Q1 = df[col].quantile(0.25)\n",
    "    Q3 = df[col].quantile(0.75)\n",
    "\n",
    "    IQR = Q3-Q1\n",
    "    lower = Q1-1.5*IQR\n",
    "    upper = Q3+1.5*IQR\n",
    "    df_capped[col] = np.where(df[col]>upper,upper, np.where(df[col]<lower,lower,df[col]))\n",
    "print(df_capped)\n",
    "    "
   ]
  },
  {
   "cell_type": "code",
   "execution_count": 29,
   "id": "77710a96-51f1-4ba8-b847-1ffaf1339d74",
   "metadata": {},
   "outputs": [
    {
     "name": "stdout",
     "output_type": "stream",
     "text": [
      "      age  anaemia  creatinine_phosphokinase  diabetes  ejection_fraction  \\\n",
      "0    75.0        0                    582.00         0               20.0   \n",
      "1    55.0        0                   1280.25         0               38.0   \n",
      "2    65.0        0                    146.00         0               20.0   \n",
      "3    50.0        1                    111.00         0               20.0   \n",
      "4    65.0        1                    160.00         1               20.0   \n",
      "..    ...      ...                       ...       ...                ...   \n",
      "294  62.0        0                     61.00         1               38.0   \n",
      "295  55.0        0                   1280.25         0               38.0   \n",
      "296  45.0        0                   1280.25         1               60.0   \n",
      "297  45.0        0                   1280.25         0               38.0   \n",
      "298  50.0        0                    196.00         0               45.0   \n",
      "\n",
      "     high_blood_pressure  platelets  serum_creatinine  serum_sodium  sex  \\\n",
      "0                      1  265000.00              1.90         130.0    1   \n",
      "1                      0  263358.03              1.10         136.0    1   \n",
      "2                      0  162000.00              1.30         129.0    1   \n",
      "3                      0  210000.00              1.90         137.0    1   \n",
      "4                      0  327000.00              2.15         125.0    0   \n",
      "..                   ...        ...               ...           ...  ...   \n",
      "294                    1  155000.00              1.10         143.0    1   \n",
      "295                    0  270000.00              1.20         139.0    0   \n",
      "296                    0  440000.00              0.80         138.0    0   \n",
      "297                    0  140000.00              1.40         140.0    1   \n",
      "298                    0  395000.00              1.60         136.0    1   \n",
      "\n",
      "     smoking   time  DEATH_EVENT  \n",
      "0          0    4.0            1  \n",
      "1          0    6.0            1  \n",
      "2          1    7.0            1  \n",
      "3          0    7.0            1  \n",
      "4          0    8.0            1  \n",
      "..       ...    ...          ...  \n",
      "294        1  270.0            0  \n",
      "295        0  271.0            0  \n",
      "296        0  278.0            0  \n",
      "297        1  280.0            0  \n",
      "298        1  285.0            0  \n",
      "\n",
      "[299 rows x 13 columns]\n"
     ]
    }
   ],
   "source": [
    "df_imp = df.copy()\n",
    "for col in num_cols :\n",
    "    Q1 = df[col].quantile(0.25)\n",
    "    Q3 = df[col].quantile(0.75)\n",
    "\n",
    "    IQR = Q3-Q1\n",
    "    lower = Q1-1.5*IQR\n",
    "    upper = Q3+1.5*IQR\n",
    "    median = df[col].median()\n",
    "    df_imp\n",
    "print(df_capped)"
   ]
  },
  {
   "cell_type": "code",
   "execution_count": null,
   "id": "bbd91d01-78d3-40e5-939a-5258a0b0abfc",
   "metadata": {},
   "outputs": [],
   "source": []
  }
 ],
 "metadata": {
  "kernelspec": {
   "display_name": "Python 3 (ipykernel)",
   "language": "python",
   "name": "python3"
  },
  "language_info": {
   "codemirror_mode": {
    "name": "ipython",
    "version": 3
   },
   "file_extension": ".py",
   "mimetype": "text/x-python",
   "name": "python",
   "nbconvert_exporter": "python",
   "pygments_lexer": "ipython3",
   "version": "3.12.7"
  }
 },
 "nbformat": 4,
 "nbformat_minor": 5
}
